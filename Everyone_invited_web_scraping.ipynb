{
  "nbformat": 4,
  "nbformat_minor": 0,
  "metadata": {
    "colab": {
      "name": "Everyone_invited_web_scraping.ipynb",
      "provenance": [],
      "authorship_tag": "ABX9TyP7UszlKUB41Qg/3U/TNlkm",
      "include_colab_link": true
    },
    "kernelspec": {
      "name": "python3",
      "display_name": "Python 3"
    },
    "language_info": {
      "name": "python"
    }
  },
  "cells": [
    {
      "cell_type": "markdown",
      "metadata": {
        "id": "view-in-github",
        "colab_type": "text"
      },
      "source": [
        "<a href=\"https://colab.research.google.com/github/dotdigital26/Everyone_invited_webscrapping/blob/main/Everyone_invited_web_scraping.ipynb\" target=\"_parent\"><img src=\"https://colab.research.google.com/assets/colab-badge.svg\" alt=\"Open In Colab\"/></a>"
      ]
    },
    {
      "cell_type": "code",
      "metadata": {
        "id": "791n9XQ99JYx"
      },
      "source": [
        "from bs4 import BeautifulSoup\n",
        "import pandas as pd\n",
        "import requests"
      ],
      "execution_count": 8,
      "outputs": []
    },
    {
      "cell_type": "code",
      "metadata": {
        "id": "eufIB1ys-WjR"
      },
      "source": [
        "def extract(page):\n",
        "    headers ={'Mozilla/5.0 (Windows NT 10.0; Win64; x64) AppleWebKit/537.36 (KHTML, like Gecko) Chrome/89.0.4389.90 Safari/537.36'}\n",
        "    \n",
        "    r = requests.get(f\"https://www.everyonesinvited.uk/read-testimonies-page-{page}\")\n",
        "    soup = BeautifulSoup(r.content, 'html.parser')\n",
        "    return soup\n",
        "    #divs = soup.find_all('div', class_='blue')\n",
        "    #return len(divs)\n",
        "#print(extract(5))\n"
      ],
      "execution_count": 96,
      "outputs": []
    },
    {
      "cell_type": "code",
      "metadata": {
        "id": "b0hLdQwwY8YW"
      },
      "source": [
        "def transform(soup):\n",
        "    divs = soup.find_all('div', class_='blue')\n",
        "    for items in divs:\n",
        "        try:\n",
        "            text = items.find('p').text.strip()\n",
        "        except:\n",
        "            text=''\n",
        "        print(text)\n",
        "\n",
        "        test = {\n",
        "            'testimony': text\n",
        "        }\n",
        "        joblist.append(test)\n",
        "        \n",
        "    return\n",
        "joblist = []\n",
        "for j in range(2, 31):\n",
        "    print(f'Getting Page =============>, {j}')\n",
        "    c= extract(j)\n",
        "    transform(c)\n",
        "print(len(joblist))\n",
        "df = pd.DataFrame(joblist)"
      ],
      "execution_count": null,
      "outputs": []
    },
    {
      "cell_type": "code",
      "metadata": {
        "id": "MxQLSioDmBet"
      },
      "source": [
        "df= pd.DataFrame(joblist)\n",
        "df.head()\n",
        "df.to_csv('everyon_invited.csv')"
      ],
      "execution_count": null,
      "outputs": []
    },
    {
      "cell_type": "code",
      "metadata": {
        "id": "G8Ip5W7cXX7B"
      },
      "source": [
        "for i in range(2, 30):\n",
        "    headers ={'Mozilla/5.0 (Windows NT 10.0; Win64; x64) AppleWebKit/537.36 (KHTML, like Gecko) Chrome/89.0.4389.90 Safari/537.36'}\n",
        "    r = requests.get(f'https://www.everyonesinvited.uk/read-testimonies-page-{i}')\n",
        "    soup = BeautifulSoup(r.content, 'lxml')\n",
        "    text = soup.find_all('div', class_='blue')\n",
        "    print(len(text))"
      ],
      "execution_count": null,
      "outputs": []
    }
  ]
}